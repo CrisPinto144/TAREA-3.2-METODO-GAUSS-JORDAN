{
  "nbformat": 4,
  "nbformat_minor": 0,
  "metadata": {
    "colab": {
      "provenance": []
    },
    "kernelspec": {
      "name": "python3",
      "display_name": "Python 3"
    },
    "language_info": {
      "name": "python"
    }
  },
  "cells": [
    {
      "cell_type": "code",
      "execution_count": 4,
      "metadata": {
        "colab": {
          "base_uri": "https://localhost:8080/"
        },
        "id": "bKEyLFu8Dwul",
        "outputId": "6905d225-4d79-4b70-9dcc-8ae7be210a75"
      },
      "outputs": [
        {
          "output_type": "stream",
          "name": "stdout",
          "text": [
            "Determinante de A: 621268.00000. El sistema tiene solución única.\n",
            "Solución del sistema: [ 24.12481248  21.03934212  22.23317151  -7.72480475 -21.3239214\n",
            " -17.77429708 -11.6445946  -33.08013933   7.46525493   7.0652472 ]\n"
          ]
        }
      ],
      "source": [
        "#   Codigo que implementa el esquema numerico\n",
        "#   del metodo de Gauss-Jordan para\n",
        "#   resolver sistemas de ecuaciones\n",
        "#\n",
        "#           Autor:\n",
        "#   Dr. Ivan de Jesus May-Cen\n",
        "#   imaycen@hotmail.com\n",
        "#   Version 1.0 : 25/02/2025\n",
        "#\n",
        "import numpy as np\n",
        "\n",
        "def gauss_jordan_pivot_determinante(A, b):\n",
        "    \"\"\"\n",
        "    Resuelve un sistema de ecuaciones Ax = b mediante el método de Gauss-Jordan con pivoteo parcial\n",
        "    e imprime el determinante de A para verificar si el sistema tiene solución única.\n",
        "    \"\"\"\n",
        "    n = len(A)\n",
        "    # Matriz aumentada\n",
        "    Ab = np.hstack([A, b.reshape(-1, 1)]).astype(float)\n",
        "\n",
        "    # Cálculo del determinante de A\n",
        "    det_A = np.linalg.det(A)\n",
        "\n",
        "    # Verificar si el sistema es determinado o indeterminado\n",
        "    if np.isclose(det_A, 0):\n",
        "        mensaje = f\"Determinante de A: {det_A:.5f}. El sistema es indeterminado o no tiene solución única.\"\n",
        "        print(mensaje)\n",
        "        return None\n",
        "\n",
        "    mensaje = f\"Determinante de A: {det_A:.5f}. El sistema tiene solución única.\"\n",
        "    print(mensaje)\n",
        "\n",
        "    # Aplicación del método de Gauss-Jordan con pivoteo\n",
        "    for i in range(n):\n",
        "        # Pivoteo parcial\n",
        "        max_row = np.argmax(abs(Ab[i:, i])) + i\n",
        "        if i != max_row:\n",
        "            Ab[[i, max_row]] = Ab[[max_row, i]]\n",
        "\n",
        "        # Normalización de la fila pivote\n",
        "        Ab[i] = Ab[i] / Ab[i, i]\n",
        "\n",
        "        # Eliminación en otras filas\n",
        "        for j in range(n):\n",
        "            if i != j:\n",
        "                Ab[j] -= Ab[j, i] * Ab[i]\n",
        "\n",
        "    # Extraer la solución\n",
        "    x = Ab[:, -1]\n",
        "    return x\n",
        "\n",
        "# Definir el sistema de ecuaciones\n",
        "A_test = np.array([[2, -3, 4, -1, 5, -1, 2, -1, 3, -2],\n",
        "                   [-3, 2, 5, -1, 4, 2, -3, 1, -2, 5],\n",
        "                   [4, -1, 3, 2, -3, 1, -2, 5, -4, 1],\n",
        "                   [-1, 5, -2, 3, 4, -1, 2, -3, 1, -5],\n",
        "                   [3, -2, 5, -1, 4, 2, -3, 1, -5, 2],\n",
        "                   [-2, 4, -3, 1, 5, -1, 2, -4, 3, -1],\n",
        "                   [5, -1, 2, -3, 4, 1, -2, 3, -1, 4],\n",
        "                   [1, -3, 4, -2, 5, -1, 2, -1, 4, -3],\n",
        "                   [2, 3, -1, 4, -2, 5, -3, 1, -2, 1],\n",
        "                   [-3, 2, 4, -1, 3, -2, 5, -1, 1, -4]], dtype=float)\n",
        "\n",
        "b_test = np.array([11, -10, 8, -6, 7, -3, 9, -5, 6, -8], dtype=float)\n",
        "\n",
        "# Resolver el sistema\n",
        "solucion_test = gauss_jordan_pivot_determinante(A_test, b_test)\n",
        "\n",
        "# Imprimir la solución si existe\n",
        "if solucion_test is not None:\n",
        "    print(\"Solución del sistema:\", solucion_test)\n",
        "\n",
        "\n"
      ]
    }
  ]
}